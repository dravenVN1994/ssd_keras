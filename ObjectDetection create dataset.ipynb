{
 "cells": [
  {
   "cell_type": "code",
   "execution_count": 2,
   "metadata": {},
   "outputs": [],
   "source": [
    "import os\n",
    "import glob\n",
    "import cv2\n",
    "import numpy as np\n",
    "import tensorflow as tf\n",
    "import pandas as pd"
   ]
  },
  {
   "cell_type": "code",
   "execution_count": 3,
   "metadata": {},
   "outputs": [],
   "source": [
    "import xml.etree.ElementTree as ET\n",
    "import matplotlib.pyplot as plt\n",
    "import random"
   ]
  },
  {
   "cell_type": "code",
   "execution_count": 5,
   "metadata": {},
   "outputs": [],
   "source": [
    "annotation_dir = r\"C:\\Users\\cuongnt\\Downloads\\data\\Annotation\"\n",
    "image_dir = r\"C:\\Users\\cuongnt\\Downloads\\data\\Images\""
   ]
  },
  {
   "cell_type": "code",
   "execution_count": 6,
   "metadata": {},
   "outputs": [],
   "source": [
    "def get_image_path(annotation_path):\n",
    "    path_items = annotation_path.split(os.path.sep)\n",
    "    return os.path.join(image_dir, path_items[-2], path_items[-1] + '.jpg')"
   ]
  },
  {
   "cell_type": "markdown",
   "metadata": {},
   "source": [
    "# Create CSV file"
   ]
  },
  {
   "cell_type": "code",
   "execution_count": 8,
   "metadata": {},
   "outputs": [],
   "source": [
    "images_dir = r\"C:\\Users\\cuongnt\\Downloads\\ubuntu\\ssd_keras\\data\""
   ]
  },
  {
   "cell_type": "code",
   "execution_count": 17,
   "metadata": {},
   "outputs": [],
   "source": [
    "def get_labels(annotation_path):\n",
    "    list_bndboxes = []\n",
    "    xml = ET.parse(annotation_path).getroot()\n",
    "    filename = os.path.basename(get_image_path(annotation_path))\n",
    "    for obj in xml.findall(\"object\"):\n",
    "        bndbox = obj.find(\"bndbox\")\n",
    "        xmin, ymin, xmax, ymax = bndbox.find(\"xmin\"), bndbox.find(\"ymin\"), bndbox.find(\"xmax\"), bndbox.find(\"ymax\")\n",
    "        xmin, ymin, xmax, ymax = int(xmin.text), int(ymin.text), int(xmax.text), int(ymax.text)\n",
    "        list_bndboxes.append([filename, xmin, xmax, ymin, ymax, 1])\n",
    "    return list_bndboxes"
   ]
  },
  {
   "cell_type": "code",
   "execution_count": 10,
   "metadata": {},
   "outputs": [],
   "source": [
    "all_annotation_files = glob.glob(r'C:\\Users\\cuongnt\\Downloads\\data\\Annotation\\**\\*', recursive = True)\n",
    "all_annotation_files = [f for f in all_annotation_files if os.path.isfile(f)]"
   ]
  },
  {
   "cell_type": "code",
   "execution_count": 11,
   "metadata": {},
   "outputs": [],
   "source": [
    "dataset = random.sample(all_annotation_files, 3000)"
   ]
  },
  {
   "cell_type": "code",
   "execution_count": 12,
   "metadata": {},
   "outputs": [],
   "source": [
    "#Ensure all image are in jpeg format\n",
    "for ant in dataset:\n",
    "    img_path = get_image_path(ant)\n",
    "    img = cv2.imread(img_path)\n",
    "    cv2.imwrite(os.path.join(images_dir, os.path.basename(img_path)), img)"
   ]
  },
  {
   "cell_type": "code",
   "execution_count": 13,
   "metadata": {},
   "outputs": [],
   "source": [
    "train_ds = dataset[: 2000]\n",
    "eval_ds = dataset[2000: 2500]\n",
    "test_ds = dataset[2500: ]"
   ]
  },
  {
   "cell_type": "code",
   "execution_count": 14,
   "metadata": {},
   "outputs": [],
   "source": [
    "import csv"
   ]
  },
  {
   "cell_type": "code",
   "execution_count": 15,
   "metadata": {},
   "outputs": [],
   "source": [
    "label_files = ['labels_train.csv', 'labels_val.csv', 'labels_test.csv']\n",
    "ds = [train_ds, eval_ds, test_ds]"
   ]
  },
  {
   "cell_type": "code",
   "execution_count": 18,
   "metadata": {},
   "outputs": [],
   "source": [
    "for (label_file, d) in zip(label_files, ds):\n",
    "    labels = []\n",
    "    for ant in d:\n",
    "        boxes = get_labels(ant)\n",
    "        labels.extend(boxes)\n",
    "    with open(label_file, 'w', newline='') as csvFile:\n",
    "        writer = csv.writer(csvFile, delimiter=',')\n",
    "        writer.writerow(['image_name', 'xmin', 'xmax', 'ymin', 'ymax', 'class_id'])\n",
    "        writer.writerows(labels)"
   ]
  },
  {
   "cell_type": "code",
   "execution_count": null,
   "metadata": {},
   "outputs": [],
   "source": []
  }
 ],
 "metadata": {
  "kernelspec": {
   "display_name": "Python 3",
   "language": "python",
   "name": "python3"
  },
  "language_info": {
   "codemirror_mode": {
    "name": "ipython",
    "version": 3
   },
   "file_extension": ".py",
   "mimetype": "text/x-python",
   "name": "python",
   "nbconvert_exporter": "python",
   "pygments_lexer": "ipython3",
   "version": "3.6.8"
  }
 },
 "nbformat": 4,
 "nbformat_minor": 2
}
