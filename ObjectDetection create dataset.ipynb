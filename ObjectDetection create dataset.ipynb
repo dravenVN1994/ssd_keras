{
 "cells": [
  {
   "cell_type": "code",
   "execution_count": 1,
   "metadata": {},
   "outputs": [],
   "source": [
    "import os\n",
    "import glob\n",
    "import cv2\n",
    "import numpy as np\n",
    "import tensorflow as tf\n",
    "import pandas as pd"
   ]
  },
  {
   "cell_type": "code",
   "execution_count": null,
   "metadata": {},
   "outputs": [],
   "source": [
    "import sys\n",
    "sys.path.insert(1, 'E:/linux/models/research')"
   ]
  },
  {
   "cell_type": "code",
   "execution_count": null,
   "metadata": {},
   "outputs": [],
   "source": [
    "from object_detection.utils import dataset_util"
   ]
  },
  {
   "cell_type": "code",
   "execution_count": 2,
   "metadata": {},
   "outputs": [],
   "source": [
    "import xml.etree.ElementTree as ET\n",
    "import matplotlib.pyplot as plt\n",
    "import io\n",
    "import PIL.Image\n",
    "import random"
   ]
  },
  {
   "cell_type": "code",
   "execution_count": 3,
   "metadata": {},
   "outputs": [],
   "source": [
    "annotation_dir = \"E:\\JupyterNotebook\\dataset\\Annotation\"\n",
    "image_dir = \"E:\\JupyterNotebook\\dataset\\Images\""
   ]
  },
  {
   "cell_type": "code",
   "execution_count": 4,
   "metadata": {},
   "outputs": [],
   "source": [
    "output_dir = \"E:\\JupyterNotebook\\dataset\""
   ]
  },
  {
   "cell_type": "code",
   "execution_count": 5,
   "metadata": {},
   "outputs": [],
   "source": [
    "def get_image_path(annotation_path):\n",
    "    path_items = annotation_path.split(os.path.sep)\n",
    "    return os.path.join(image_dir, path_items[-2], path_items[-1] + '.jpg')"
   ]
  },
  {
   "cell_type": "code",
   "execution_count": null,
   "metadata": {},
   "outputs": [],
   "source": [
    "def get_encoded_image(image_path, desire_format = 'JPEG'):\n",
    "    with tf.gfile.GFile(image_path, 'rb') as fid:\n",
    "        encoded_jpg = fid.read()\n",
    "    encoded_jpg_io = io.BytesIO(encoded_jpg)\n",
    "    image = PIL.Image.open(encoded_jpg_io)\n",
    "    if image.format != desire_format:\n",
    "        raise ValueError('Image format not JPEG: {}'.format(image_path))\n",
    "    return encoded_jpg"
   ]
  },
  {
   "cell_type": "code",
   "execution_count": null,
   "metadata": {},
   "outputs": [],
   "source": [
    "def create_tf_example(annotation_path):\n",
    "    xml = ET.parse(annotation_path).getroot()\n",
    "    filename = xml.find(\"filename\").text\n",
    "    source = xml.find(\"source\").find(\"database\").text\n",
    "    size = xml.find(\"size\")\n",
    "    width = int(size.find(\"width\").text)\n",
    "    height = int(size.find(\"height\").text)\n",
    "    xmins = [] # List of normalized left x coordinates in bounding box (1 per box)\n",
    "    xmaxs = [] # List of normalized right x coordinates in bounding box (1 per box)\n",
    "    ymins = [] # List of normalized top y coordinates in bounding box (1 per box)\n",
    "    ymaxs = [] # List of normalized bottom y coordinates in bounding box (1 per box)\n",
    "    classes_text = [] # List of string class name of bounding box (1 per box)\n",
    "    classes = [] # List of integer class id of bounding box (1 per box)\n",
    "    image_path = get_image_path(annotation_path)\n",
    "    encoded_jpg = get_encoded_image(image_path)\n",
    "    \n",
    "    for obj in xml.findall(\"object\"):\n",
    "        bndbox = obj.find(\"bndbox\")\n",
    "        xmin, ymin, xmax, ymax = bndbox.find(\"xmin\"), bndbox.find(\"ymin\"), bndbox.find(\"xmax\"), bndbox.find(\"ymax\")\n",
    "        xmin, ymin, xmax, ymax = float(xmin.text), float(ymin.text), float(xmax.text), float(ymax.text)\n",
    "        xmins.append(xmin / width)\n",
    "        ymins.append(ymin / height)\n",
    "        xmaxs.append(xmax / width)\n",
    "        ymaxs.append(ymax / height)\n",
    "        classes_text.append('dog'.encode('utf8'))\n",
    "        classes.append(1) #Only one class\n",
    "    tf_example = tf.train.Example(features=tf.train.Features(feature={\n",
    "        'image/height': dataset_util.int64_feature(height),\n",
    "        'image/width': dataset_util.int64_feature(width),\n",
    "        'image/filename': dataset_util.bytes_feature(filename.encode('utf8')),\n",
    "        'image/source_id': dataset_util.bytes_feature(source.encode('utf8')),\n",
    "        'image/encoded': dataset_util.bytes_feature(encoded_jpg),\n",
    "        'image/format': dataset_util.bytes_feature('jpeg'.encode('utf8')),\n",
    "        'image/object/bbox/xmin': dataset_util.float_list_feature(xmins),\n",
    "        'image/object/bbox/xmax': dataset_util.float_list_feature(xmaxs),\n",
    "        'image/object/bbox/ymin': dataset_util.float_list_feature(ymins),\n",
    "        'image/object/bbox/ymax': dataset_util.float_list_feature(ymaxs),\n",
    "        'image/object/class/text': dataset_util.bytes_list_feature(classes_text),\n",
    "        'image/object/class/label': dataset_util.int64_list_feature(classes),\n",
    "    }))\n",
    "    return tf_example"
   ]
  },
  {
   "cell_type": "code",
   "execution_count": null,
   "metadata": {},
   "outputs": [],
   "source": [
    "all_annotation_files = glob.glob(r'E:\\JupyterNotebook\\dataset\\Annotation\\**\\*', recursive = True)\n",
    "all_annotation_files = [f for f in all_annotation_files if os.path.isfile(f)]"
   ]
  },
  {
   "cell_type": "code",
   "execution_count": null,
   "metadata": {},
   "outputs": [],
   "source": [
    "dataset = random.sample(all_annotation_files, 3000)"
   ]
  },
  {
   "cell_type": "code",
   "execution_count": null,
   "metadata": {},
   "outputs": [],
   "source": [
    "#Ensure all image are in jpeg format\n",
    "for ant in dataset:\n",
    "    img_path = get_image_path(ant)\n",
    "    img = cv2.imread(img_path, cv2.IMREAD_UNCHANGED)\n",
    "    if len(img.shape) != 3 or img.shape[-1] != 3:\n",
    "        print(img_path)\n",
    "        img_bgr = cv2.imread(img_path)\n",
    "        cv2.imwrite(img_path, img_bgr)"
   ]
  },
  {
   "cell_type": "code",
   "execution_count": null,
   "metadata": {},
   "outputs": [],
   "source": [
    "train_ds = dataset[: 2000]\n",
    "eval_ds = dataset[2000: 2500]\n",
    "test_ds = dataset[2500: ]"
   ]
  },
  {
   "cell_type": "code",
   "execution_count": null,
   "metadata": {},
   "outputs": [],
   "source": [
    "print(len(train_ds), len(eval_ds), len(test_ds))"
   ]
  },
  {
   "cell_type": "code",
   "execution_count": null,
   "metadata": {},
   "outputs": [],
   "source": [
    "all_ds = [train_ds, eval_ds, test_ds]\n",
    "ds_files = [\"train_ds.tfrecord\", \"eval_ds.tfrecord\", \"test_ds.tfrecord\"]\n",
    "for (ds, ds_file) in zip(all_ds, ds_files):\n",
    "    with tf.python_io.TFRecordWriter(os.path.join(output_dir, ds_file)) as writer:\n",
    "        for ant in ds:\n",
    "            example = create_tf_example(ant)\n",
    "            writer.write(example.SerializeToString())"
   ]
  },
  {
   "cell_type": "markdown",
   "metadata": {},
   "source": [
    "# Create CSV file"
   ]
  },
  {
   "cell_type": "code",
   "execution_count": 6,
   "metadata": {},
   "outputs": [],
   "source": [
    "images_dir = r\"E:\\JupyterNotebook\\dataset\\dataset\""
   ]
  },
  {
   "cell_type": "code",
   "execution_count": 7,
   "metadata": {},
   "outputs": [],
   "source": [
    "def get_labels(annotation_path):\n",
    "    list_bndboxes = []\n",
    "    xml = ET.parse(annotation_path).getroot()\n",
    "    filename = os.path.basename(get_image_path(annotation_path))\n",
    "    for obj in xml.findall(\"object\"):\n",
    "        bndbox = obj.find(\"bndbox\")\n",
    "        xmin, ymin, xmax, ymax = bndbox.find(\"xmin\"), bndbox.find(\"ymin\"), bndbox.find(\"xmax\"), bndbox.find(\"ymax\")\n",
    "        xmin, ymin, xmax, ymax = float(xmin.text), float(ymin.text), float(xmax.text), float(ymax.text)\n",
    "        list_bndboxes.append([filename, xmin, xmax, ymin, ymax, 1])\n",
    "    return list_bndboxes"
   ]
  },
  {
   "cell_type": "code",
   "execution_count": 8,
   "metadata": {},
   "outputs": [],
   "source": [
    "all_annotation_files = glob.glob(r'E:\\JupyterNotebook\\dataset\\Annotation\\**\\*', recursive = True)\n",
    "all_annotation_files = [f for f in all_annotation_files if os.path.isfile(f)]"
   ]
  },
  {
   "cell_type": "code",
   "execution_count": 9,
   "metadata": {},
   "outputs": [],
   "source": [
    "dataset = random.sample(all_annotation_files, 3000)"
   ]
  },
  {
   "cell_type": "code",
   "execution_count": 15,
   "metadata": {},
   "outputs": [],
   "source": [
    "#Ensure all image are in jpeg format\n",
    "for ant in dataset:\n",
    "    img_path = get_image_path(ant)\n",
    "    img = cv2.imread(img_path)\n",
    "    cv2.imwrite(os.path.join(images_dir, os.path.basename(img_path)), img)"
   ]
  },
  {
   "cell_type": "code",
   "execution_count": 11,
   "metadata": {},
   "outputs": [],
   "source": [
    "train_ds = dataset[: 2000]\n",
    "eval_ds = dataset[2000: 2500]\n",
    "test_ds = dataset[2500: ]"
   ]
  },
  {
   "cell_type": "code",
   "execution_count": 12,
   "metadata": {},
   "outputs": [],
   "source": [
    "import csv"
   ]
  },
  {
   "cell_type": "code",
   "execution_count": 13,
   "metadata": {},
   "outputs": [],
   "source": [
    "label_files = ['labels_train.csv', 'labels_val.csv', 'labels_test.csv']\n",
    "ds = [train_ds, eval_ds, test_ds]"
   ]
  },
  {
   "cell_type": "code",
   "execution_count": 14,
   "metadata": {},
   "outputs": [],
   "source": [
    "for (label_file, d) in zip(label_files, ds):\n",
    "    labels = []\n",
    "    for ant in d:\n",
    "        boxes = get_labels(ant)\n",
    "        labels.extend(boxes)\n",
    "    with open(label_file, 'w', newline='') as csvFile:\n",
    "        writer = csv.writer(csvFile, delimiter=',')\n",
    "        writer.writerows(labels)"
   ]
  },
  {
   "cell_type": "code",
   "execution_count": null,
   "metadata": {},
   "outputs": [],
   "source": []
  }
 ],
 "metadata": {
  "kernelspec": {
   "display_name": "Python 3",
   "language": "python",
   "name": "python3"
  },
  "language_info": {
   "codemirror_mode": {
    "name": "ipython",
    "version": 3
   },
   "file_extension": ".py",
   "mimetype": "text/x-python",
   "name": "python",
   "nbconvert_exporter": "python",
   "pygments_lexer": "ipython3",
   "version": "3.7.3"
  }
 },
 "nbformat": 4,
 "nbformat_minor": 2
}
